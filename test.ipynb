{
 "cells": [
  {
   "cell_type": "code",
   "execution_count": 1,
   "metadata": {},
   "outputs": [],
   "source": [
    "import socket\n",
    "import json "
   ]
  },
  {
   "cell_type": "code",
   "execution_count": 2,
   "metadata": {},
   "outputs": [],
   "source": [
    "json_text = {'tweetText': 'IPL Laser Hair Removal Device Ucatini Permanent Laser Hair Removal Machine Prof. https://t.co/iHeNv9h8cK eBay https://t.co/gNJ2o1W5NG', 'tweetLocation': None, 'id_str': '1513339693647089665'}"
   ]
  },
  {
   "cell_type": "code",
   "execution_count": 6,
   "metadata": {},
   "outputs": [
    {
     "data": {
      "text/plain": [
       "'IPL Laser Hair Removal Device Ucatini Permanent Laser Hair Removal Machine Prof. https://t.co/iHeNv9h8cK eBay https://t.co/gNJ2o1W5NG'"
      ]
     },
     "execution_count": 6,
     "metadata": {},
     "output_type": "execute_result"
    }
   ],
   "source": [
    "json_text[\"tweetText\"]"
   ]
  }
 ],
 "metadata": {
  "interpreter": {
   "hash": "061af8928150db717c616d7842f8c579baa681fc39ff26b9e09d17864e838089"
  },
  "kernelspec": {
   "display_name": "Python 3.6.13 ('pyspark_env')",
   "language": "python",
   "name": "python3"
  },
  "language_info": {
   "codemirror_mode": {
    "name": "ipython",
    "version": 3
   },
   "file_extension": ".py",
   "mimetype": "text/x-python",
   "name": "python",
   "nbconvert_exporter": "python",
   "pygments_lexer": "ipython3",
   "version": "3.6.13"
  },
  "orig_nbformat": 4
 },
 "nbformat": 4,
 "nbformat_minor": 2
}
