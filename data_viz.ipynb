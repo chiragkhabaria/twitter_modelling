{
 "cells": [
  {
   "cell_type": "code",
   "execution_count": 1,
   "metadata": {},
   "outputs": [],
   "source": [
    "import os\n",
    "import pandas as pd\n",
    "import matplotlib.pyplot as plt\n",
    "import seaborn as sns\n",
    "from pyspark.sql import SparkSession\n",
    "from collections import namedtuple \n",
    "from textblob import TextBlob\n",
    "from pyspark.sql.types import *\n",
    "from pyspark.sql.functions import col, lit\n",
    "import pyspark.sql.functions as F\n",
    "from pyspark import SparkContext,SparkConf\n",
    "from pyspark.sql import SQLContext\n"
   ]
  },
  {
   "cell_type": "code",
   "execution_count": 2,
   "metadata": {},
   "outputs": [],
   "source": [
    "conf = None\n",
    "sqlContext = None \n",
    "sc  = None"
   ]
  },
  {
   "cell_type": "code",
   "execution_count": 3,
   "metadata": {},
   "outputs": [],
   "source": [
    "\n",
    "if (conf == None):\n",
    "    conf = SparkConf()\n",
    "    conf.setAppName(\"data_viz\") \n",
    "    sc =  SparkContext.getOrCreate(conf)\n",
    "    sqlContext = SQLContext(sc).getOrCreate(sc)"
   ]
  },
  {
   "cell_type": "code",
   "execution_count": 4,
   "metadata": {},
   "outputs": [],
   "source": [
    "def get_twitter_data_pandas():\n",
    "    try:\n",
    "        data_path = os.getcwd() + \"/data/tweets/all_tweets.parquet\"\n",
    "        df = sqlContext.read.parquet(data_path)\n",
    "        return df.toPandas()\n",
    "    except Exception as e:\n",
    "        print(\"Error occurred while pulling the twitter data. Error details ::\" + str(e))"
   ]
  },
  {
   "cell_type": "code",
   "execution_count": 5,
   "metadata": {},
   "outputs": [],
   "source": [
    "bins = []\n",
    "for x in range(-100,110,10):\n",
    "    bins.append(x/100)"
   ]
  },
  {
   "cell_type": "code",
   "execution_count": 6,
   "metadata": {},
   "outputs": [
    {
     "data": {
      "text/plain": [
       "sentiment_text\n",
       "negative     8\n",
       "neutral     12\n",
       "positive    17\n",
       "Name: sentiment_text, dtype: int64"
      ]
     },
     "execution_count": 6,
     "metadata": {},
     "output_type": "execute_result"
    }
   ],
   "source": [
    "df = get_twitter_data_pandas()\n",
    "df= df['sentiment_text'].groupby(df.sentiment_text)\n",
    "df.size()"
   ]
  },
  {
   "cell_type": "code",
   "execution_count": 11,
   "metadata": {},
   "outputs": [
    {
     "data": {
      "image/png": "[encoded data removed]",
      "text/plain": [
       "<Figure size 792x360 with 1 Axes>"
      ]
     },
     "metadata": {},
     "output_type": "display_data"
    }
   ],
   "source": [
    "\n",
    "fig, ax = plt.subplots(figsize = (11,5))\n",
    "fig.patch.set_facecolor('xkcd:white')\n",
    "\n",
    "sentiment_df = get_twitter_data_pandas()\n",
    "df = sentiment_df\n",
    "plt.figtext(0.95,0.49,df['sentiment_text'].groupby(df.sentiment_text).size().to_string(), {\n",
    "    'multialignment':'left'\n",
    "})\n",
    "sentiment_df = sentiment_df[['polarity']]\n",
    "sentiment_df = sentiment_df[sentiment_df.polarity != 0]\n",
    "sentiment_df.hist(\n",
    "            bins= bins,\n",
    "             ax=ax,\n",
    "             color=\"purple\",\n",
    "             edgecolor='white', \n",
    "             linewidth=1 \n",
    "            )\n",
    "ax.set_title('Sentiments Polarity from Twitter on Russia and Ukraine',fontsize=15, color= 'black', fontweight='bold')\n",
    "plt.show()"
   ]
  }
 ],
 "metadata": {
  "interpreter": {
   "hash": "061af8928150db717c616d7842f8c579baa681fc39ff26b9e09d17864e838089"
  },
  "kernelspec": {
   "display_name": "Python 3.6.13 ('pyspark_env')",
   "language": "python",
   "name": "python3"
  },
  "language_info": {
   "codemirror_mode": {
    "name": "ipython",
    "version": 3
   },
   "file_extension": ".py",
   "mimetype": "text/x-python",
   "name": "python",
   "nbconvert_exporter": "python",
   "pygments_lexer": "ipython3",
   "version": "3.6.13"
  },
  "orig_nbformat": 4
 },
 "nbformat": 4,
 "nbformat_minor": 2
}
