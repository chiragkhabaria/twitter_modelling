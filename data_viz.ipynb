{
 "cells": [
  {
   "cell_type": "code",
   "execution_count": 1,
   "metadata": {},
   "outputs": [],
   "source": [
    "import os\n",
    "import pandas as pd\n",
    "import matplotlib.pyplot as plt\n",
    "import seaborn as sns\n",
    "from pyspark.sql import SparkSession\n",
    "from collections import namedtuple \n",
    "from textblob import TextBlob\n",
    "from pyspark.sql.types import *\n",
    "from pyspark.sql.functions import col, lit\n",
    "import pyspark.sql.functions as F\n",
    "from pyspark import SparkContext,SparkConf\n",
    "from pyspark.sql import SQLContext\n"
   ]
  },
  {
   "cell_type": "code",
   "execution_count": 2,
   "metadata": {},
   "outputs": [],
   "source": [
    "conf = None\n",
    "sqlContext = None \n",
    "sc  = None"
   ]
  },
  {
   "cell_type": "code",
   "execution_count": 3,
   "metadata": {},
   "outputs": [],
   "source": [
    "\n",
    "if (conf == None):\n",
    "    conf = SparkConf()\n",
    "    conf.setAppName(\"data_viz\") \n",
    "    sc =  SparkContext.getOrCreate(conf)\n",
    "    sqlContext = SQLContext(sc).getOrCreate(sc)"
   ]
  },
  {
   "cell_type": "code",
   "execution_count": 4,
   "metadata": {},
   "outputs": [],
   "source": [
    "def get_twitter_data_pandas():\n",
    "    try:\n",
    "        data_path = os.getcwd() + \"/data/tweets/all_tweets.parquet\"\n",
    "        df = sqlContext.read.parquet(data_path).distinct()\n",
    "        return df.toPandas()\n",
    "    except Exception as e:\n",
    "        print(\"Error occurred while pulling the twitter data. Error details ::\" + str(e))"
   ]
  },
  {
   "cell_type": "code",
   "execution_count": 12,
   "metadata": {},
   "outputs": [
    {
     "name": "stdout",
     "output_type": "stream",
     "text": [
      "+-------------------+--------------------+--------------------+--------------+--------------------+--------------------+-----------+----+\n",
      "|             id_str|               tweet|       cleaned_tweet|sentiment_text|            polarity|   row_add_timestamp|       date|hour|\n",
      "+-------------------+--------------------+--------------------+--------------+--------------------+--------------------+-----------+----+\n",
      "|1516621195688517634|English aati hai ...|English aati hai ...|       neutral|                 0.0|2022-04-19 23:39:...|20220410919|  23|\n",
      "|1522386398300409856|#auspol #war #Ukr...|#auspol #war #Ukr...|      positive|                0.25|2022-05-05 21:26:...|20220512505|  21|\n",
      "|1516621169809846272|\"I just cannot be...|\"I just cannot be...|      positive|                 0.1|2022-04-19 23:38:...|20220410919|  23|\n",
      "|1522386410367590401|This just doesn’t...|This just doesn’t...|       neutral|                 0.0|2022-05-05 21:27:...|20220512505|  21|\n",
      "|1516621164121976833|@Lowes_Canada \n",
      "\n",
      "T...|_Canada Time to s...|      positive| 0.16562500000000002|2022-04-19 23:35:...|20220410919|  23|\n",
      "|1522386401962119171|The 1619 Project’...|The 1619 Project’...|       neutral|                 0.0|2022-05-05 21:26:...|20220512505|  21|\n",
      "|1522386407557324806|That lady snatche...|That lady snatche...|       neutral|                 0.0|2022-05-05 21:25:...|20220512505|  21|\n",
      "|1516621163895664642|...Yes President ...|...Yes President ...|      positive|               0.375|2022-04-19 23:35:...|20220410919|  23|\n",
      "|1516621193020948481|@SillymanSheldon ...|_whyte So you are...|      positive|                 0.7|2022-04-19 23:39:...|20220410919|  23|\n",
      "|1522386420052029440|@Acyn 2 months ag...|2 months ago thes...|      negative|                -0.1|2022-05-05 21:28:...|20220512505|  21|\n",
      "|1516621165275582467|Thankyou for your...|Thankyou for your...|       neutral|                 0.0|2022-04-19 23:37:...|20220410919|  23|\n",
      "|1522386401962119171|The 1619 Project’...|The 1619 Project’...|       neutral|                 0.0|2022-05-05 21:24:...|20220512505|  21|\n",
      "|1516621168756862980|@GuntherEagleman ...|Did it work? Well...|      negative|-0.45000000000000007|2022-04-19 23:41:...|20220410919|  23|\n",
      "|1522386414318624768|Russia X 3 \n",
      "Orang...|Russia X 3 Orange...|       neutral|                 0.0|2022-05-05 21:27:...|20220512505|  21|\n",
      "|1516621169809846272|\"I just cannot be...|\"I just cannot be...|      positive|                 0.1|2022-04-19 23:35:...|20220410919|  23|\n",
      "|1522386397537177610|Teenage refugee f...|Teenage refugee f...|      negative|-0.06666666666666667|2022-05-05 21:25:...|20220512505|  21|\n",
      "|1522386419561512960|@unknown43895576 ...|Alicization and w...|      negative|-0.30000000000000004|2022-05-05 21:28:...|20220512505|  21|\n",
      "|1516621162498953216|@EisarZahid Waqar...|Waqar Bhai ne Sha...|       neutral|                 0.0|2022-04-19 23:37:...|20220410919|  23|\n",
      "|1516621157440573443|good god it’s a w...|good god it’s a w...|      positive|                 0.7|2022-04-19 23:34:...|20220410919|  23|\n",
      "|1522386422661005315|@LaheyGiblets Not...|Not using appende...|      positive|  0.2857142857142857|2022-05-05 21:29:...|20220512505|  21|\n",
      "+-------------------+--------------------+--------------------+--------------+--------------------+--------------------+-----------+----+\n",
      "only showing top 20 rows\n",
      "\n"
     ]
    }
   ],
   "source": [
    "data_path = os.getcwd() + \"/data/tweets/all_tweets.parquet\"\n",
    "df = sqlContext.read.parquet(data_path).distinct()\n",
    "#df.groupBy([\"sentiment_text\",\"polarity\"]).count().show()\n",
    "df.show()"
   ]
  },
  {
   "cell_type": "code",
   "execution_count": 6,
   "metadata": {},
   "outputs": [],
   "source": [
    "bins = []\n",
    "for x in range(-100,110,10):\n",
    "    bins.append(x/100)"
   ]
  },
  {
   "cell_type": "code",
   "execution_count": 7,
   "metadata": {},
   "outputs": [
    {
     "data": {
      "image/png": "[encoded data removed]",
      "text/plain": [
       "<Figure size 792x360 with 1 Axes>"
      ]
     },
     "metadata": {},
     "output_type": "display_data"
    }
   ],
   "source": [
    "\n",
    "fig, ax = plt.subplots(figsize = (11,5))\n",
    "fig.patch.set_facecolor('xkcd:white')\n",
    "\n",
    "sentiment_df = get_twitter_data_pandas()\n",
    "df = sentiment_df\n",
    "plt.figtext(0.95,0.49,df['sentiment_text'].groupby(df.sentiment_text).size().to_string(), {\n",
    "    'multialignment':'left'\n",
    "})\n",
    "sentiment_df = sentiment_df[['polarity']]\n",
    "sentiment_df = sentiment_df[sentiment_df.polarity != 0]\n",
    "sentiment_df.hist(\n",
    "            bins= bins,\n",
    "             ax=ax,\n",
    "             color=\"purple\",\n",
    "             edgecolor='white', \n",
    "             linewidth=1 \n",
    "            )\n",
    "ax.set_title('Sentiments Polarity from Twitter on Russia and Ukraine',fontsize=15, color= 'black', fontweight='bold')\n",
    "plt.show()"
   ]
  }
 ],
 "metadata": {
  "interpreter": {
   "hash": "061af8928150db717c616d7842f8c579baa681fc39ff26b9e09d17864e838089"
  },
  "kernelspec": {
   "display_name": "Python 3.6.13 ('pyspark_env')",
   "language": "python",
   "name": "python3"
  },
  "language_info": {
   "codemirror_mode": {
    "name": "ipython",
    "version": 3
   },
   "file_extension": ".py",
   "mimetype": "text/x-python",
   "name": "python",
   "nbconvert_exporter": "python",
   "pygments_lexer": "ipython3",
   "version": "3.6.13"
  },
  "orig_nbformat": 4
 },
 "nbformat": 4,
 "nbformat_minor": 2
}
